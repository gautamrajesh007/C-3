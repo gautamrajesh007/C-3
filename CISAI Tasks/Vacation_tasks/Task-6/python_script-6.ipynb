{
 "cells": [
  {
   "cell_type": "code",
   "execution_count": 1,
   "id": "b4599d93",
   "metadata": {},
   "outputs": [
    {
     "name": "stdout",
     "output_type": "stream",
     "text": [
      "Execution time using loops: 1.060154676437378\n",
      "Execution time using vectorization: 0.0003199577331542969\n",
      "Difference in time complexity: 1.0598347187042236\n"
     ]
    }
   ],
   "source": [
    "import numpy as np\n",
    "import time\n",
    "\n",
    "# create a random matrix of size 100x100\n",
    "matrix1 = np.random.rand(100, 100)\n",
    "matrix2 = np.random.rand(100, 100)\n",
    "\n",
    "# matrix multiplication using loops\n",
    "start = time.time()\n",
    "result_loop = np.zeros((100, 100))\n",
    "for i in range(100):\n",
    "    for j in range(100):\n",
    "        for k in range(100):\n",
    "            result_loop[i][j] += matrix1[i][k] * matrix2[k][j]\n",
    "end = time.time()\n",
    "time_loop = end - start\n",
    "print(\"Execution time using loops:\", time_loop)\n",
    "\n",
    "# matrix multiplication using vectorization\n",
    "start = time.time()\n",
    "result_vec = np.matmul(matrix1, matrix2)\n",
    "end = time.time()\n",
    "time_vec = end - start\n",
    "print(\"Execution time using vectorization:\", time_vec)\n",
    "\n",
    "# difference in time complexity\n",
    "print(\"Difference in time complexity:\", time_loop - time_vec)\n"
   ]
  },
  {
   "cell_type": "code",
   "execution_count": null,
   "id": "83f94513",
   "metadata": {},
   "outputs": [],
   "source": []
  }
 ],
 "metadata": {
  "kernelspec": {
   "display_name": "Python 3 (ipykernel)",
   "language": "python",
   "name": "python3"
  },
  "language_info": {
   "name": "python",
   "version": "3.10.6 (main, Nov 14 2022, 16:10:14) [GCC 11.3.0]"
  },
  "vscode": {
   "interpreter": {
    "hash": "7c76dde42d086d9fb477f3425574634f2f9e37ac5423ac4358771f27b15d784a"
   }
  }
 },
 "nbformat": 4,
 "nbformat_minor": 5
}
